{
 "cells": [
  {
   "cell_type": "code",
   "execution_count": 1,
   "id": "9df7f357-5347-447f-861c-7d130849fe57",
   "metadata": {},
   "outputs": [],
   "source": [
    "import pandas as pd\n",
    "from sklearn.model_selection import train_test_split\n",
    "from sklearn.metrics import accuracy_score"
   ]
  },
  {
   "cell_type": "markdown",
   "id": "356c0efe-a5d4-403f-aa5d-9179f7c727e1",
   "metadata": {},
   "source": [
    "## 데이터 불러오기"
   ]
  },
  {
   "cell_type": "code",
   "execution_count": 2,
   "id": "512313de-81b2-4731-84f3-9b7b63a1dabd",
   "metadata": {},
   "outputs": [
    {
     "data": {
      "text/plain": [
       "((284, 30), (285, 30), (284,), (285,))"
      ]
     },
     "execution_count": 2,
     "metadata": {},
     "output_type": "execute_result"
    }
   ],
   "source": [
    "# 데이터 생성\n",
    "from sklearn.datasets import load_breast_cancer\n",
    "\n",
    "def make_dataset():\n",
    "    iris = load_breast_cancer()\n",
    "    df = pd.DataFrame(iris.data, columns=iris.feature_names)\n",
    "    df['target'] = iris.target\n",
    "    X_train, X_test, y_train, y_test = train_test_split(\n",
    "        df.drop('target', axis=1), df['target'], test_size=0.5, random_state=1004)\n",
    "    return X_train, X_test, y_train, y_test\n",
    "\n",
    "X_train, X_test, y_train, y_test = make_dataset()\n",
    "X_train.shape, X_test.shape, y_train.shape, y_test.shape"
   ]
  },
  {
   "cell_type": "markdown",
   "id": "7011642c-f5c6-4996-92db-898f1655fac7",
   "metadata": {},
   "source": [
    "test_size가 0.5이므로 5대5로 나누어진 것을 확인할 수 있다."
   ]
  },
  {
   "cell_type": "code",
   "execution_count": 3,
   "id": "b6a76ef5-4187-46c6-9086-62f3e5f1c508",
   "metadata": {},
   "outputs": [
    {
     "data": {
      "text/plain": [
       "target\n",
       "1    190\n",
       "0     94\n",
       "Name: count, dtype: int64"
      ]
     },
     "execution_count": 3,
     "metadata": {},
     "output_type": "execute_result"
    }
   ],
   "source": [
    "# target check\n",
    "y_train.value_counts()"
   ]
  },
  {
   "cell_type": "markdown",
   "id": "440295b2-634a-47e7-9b18-b055d3172d7d",
   "metadata": {},
   "source": [
    "## 의사결정나무"
   ]
  },
  {
   "cell_type": "code",
   "execution_count": 6,
   "id": "e74096ae-f557-411a-94d5-819527289bcd",
   "metadata": {
    "scrolled": true
   },
   "outputs": [
    {
     "data": {
      "text/plain": [
       "0.9263157894736842"
      ]
     },
     "execution_count": 6,
     "metadata": {},
     "output_type": "execute_result"
    }
   ],
   "source": [
    "from sklearn.tree import DecisionTreeClassifier\n",
    "model = DecisionTreeClassifier(random_state=0) # 모델 선택\n",
    "\n",
    "model.fit(X_train, y_train) # 모델 학습\n",
    "pred = model.predict(X_test) # 모델 예측\n",
    "\n",
    "accuracy_score(y_test,pred) # 정확도 평가"
   ]
  },
  {
   "cell_type": "markdown",
   "id": "504fc081-f5c4-4102-bdce-d25944abcb11",
   "metadata": {},
   "source": [
    "### 의사결정나무 하이퍼파라미터\n",
    "- criterion(default gini): 불순도 지표\n",
    "- max_depth(default none): 최대 한도 깊이, 데이터 수가 많지 않을 경우 일정 깊이 이상은 같은 정확도 출력\n",
    "- min_samples_split(default 2): 자식 노드를 갖기 위한 최소한의 데이터 수\n",
    "- min_samples_leaf(default 1): 리프 노드가 되기 위한 최소 샘플 수\n",
    "  "
   ]
  },
  {
   "cell_type": "code",
   "execution_count": 16,
   "id": "cd9a3351-f4f9-46dc-a579-951a424fcfeb",
   "metadata": {},
   "outputs": [
    {
     "data": {
      "text/plain": [
       "0.9228070175438596"
      ]
     },
     "execution_count": 16,
     "metadata": {},
     "output_type": "execute_result"
    }
   ],
   "source": [
    "from sklearn.tree import DecisionTreeClassifier\n",
    "model = DecisionTreeClassifier(criterion='entropy',\n",
    "                               max_depth=7,\n",
    "                               min_samples_split=2,\n",
    "                               min_samples_leaf=2,\n",
    "                               random_state=0) # 모델 선택, 하이퍼파라터\n",
    "\n",
    "model.fit(X_train, y_train) # 모델 학습\n",
    "pred = model.predict(X_test) # 모델 예측\n",
    "\n",
    "accuracy_score(y_test,pred) # 정확도 평가"
   ]
  },
  {
   "cell_type": "markdown",
   "id": "aefff4a5-fac4-468e-aa98-f99bccb5c918",
   "metadata": {},
   "source": [
    "## 랜덤포레스트\n",
    "- 지도학습 알고리즘(분류, 회귀)\n",
    "- 의사결정나무가 여러 개 있는 구성 = 의사결정나무의 앙상블\n",
    "- 성능이 좋음(과대적합 가능성 낮음)\n",
    "- 부트스트랩 샘플링(데이터셋 중복 허용)\n",
    "- 최종 다수결 투표\n",
    "- 앙상블 -> 배깅(랜덤포레스트), 부스팅(XGBoost)\n",
    "  \n",
    "*배깅: 같은 알고리즘으로 여러 모델 만들어 분류  \n",
    "*부스팅: 학습과 예측하며 가중치 반"
   ]
  },
  {
   "cell_type": "code",
   "execution_count": 20,
   "id": "b74ecb3d-2374-4f6b-bae1-9404daebb227",
   "metadata": {},
   "outputs": [
    {
     "data": {
      "text/plain": [
       "0.9438596491228071"
      ]
     },
     "execution_count": 20,
     "metadata": {},
     "output_type": "execute_result"
    }
   ],
   "source": [
    "from sklearn.ensemble import RandomForestClassifier\n",
    "\n",
    "model = RandomForestClassifier(random_state=0)\n",
    "model.fit(X_train, y_train)\n",
    "pred = model.predict(X_test)\n",
    "accuracy_score(y_test, pred)"
   ]
  },
  {
   "cell_type": "markdown",
   "id": "8993dc16-3c8d-4748-8d73-0fdd10af4a61",
   "metadata": {},
   "source": [
    "### 랜덤포레스트 하이퍼파라미터\n",
    "- n_estimators (default 100) : 트리의 수\n",
    "- criterion (default gini) : 불순도 지표\n",
    "- max_depth (default None) : 최대 한도 깊이\n",
    "- min_samples_split (default 2) : 자식 노드를 갖기 위한 최소한의 데이터 수\n",
    "- min_samples_leaf (default 1) : 리프 노드가 되기 위한 최소 샘플 수"
   ]
  },
  {
   "cell_type": "code",
   "execution_count": 23,
   "id": "1d0915b1-2f4f-4c0a-ad5e-09bed4df8aa2",
   "metadata": {},
   "outputs": [
    {
     "data": {
      "text/plain": [
       "0.9473684210526315"
      ]
     },
     "execution_count": 23,
     "metadata": {},
     "output_type": "execute_result"
    }
   ],
   "source": [
    "from sklearn.ensemble import RandomForestClassifier\n",
    "\n",
    "model = RandomForestClassifier(n_estimators=200, # 트리가 많으면 속도가 느리다.\n",
    "                               max_depth=3,\n",
    "                               random_state=0)\n",
    "model.fit(X_train, y_train)\n",
    "pred = model.predict(X_test)\n",
    "accuracy_score(y_test, pred)"
   ]
  },
  {
   "cell_type": "markdown",
   "id": "de7485d7-659f-4550-b0e6-4f3efea496a2",
   "metadata": {},
   "source": [
    "## XGBoost(eXtreme Gradient Boosting)"
   ]
  },
  {
   "cell_type": "markdown",
   "id": "f3ea345e-fb07-4a1b-a514-94c5c93a5135",
   "metadata": {},
   "source": [
    "- 트리 앙상블 중 성능이 좋은 알고리즘\n",
    "- 부스팅(앙상블) 기반의 알고리즘\n",
    "- 약한 학습기가 계속해서 업데이트를 하며 좋은 모델을 만들어 감\n",
    "- 캐글에서 뛰어난 성능을 보이면서 인기가 높아짐"
   ]
  },
  {
   "cell_type": "code",
   "execution_count": 26,
   "id": "f70ff603-43eb-4c60-93c2-1b0e0edda24f",
   "metadata": {},
   "outputs": [
    {
     "data": {
      "text/plain": [
       "0.9614035087719298"
      ]
     },
     "execution_count": 26,
     "metadata": {},
     "output_type": "execute_result"
    }
   ],
   "source": [
    "from xgboost import XGBClassifier\n",
    "model = XGBClassifier(random_state=0)\n",
    "model.fit(X_train, y_train)\n",
    "pred = model.predict(X_test)\n",
    "accuracy_score(y_test, pred)\n",
    "\n",
    "# warning ignore\n",
    "# 1) use_label_encoder=False\n",
    "# 2) eval_metric='logloss'"
   ]
  },
  {
   "cell_type": "markdown",
   "id": "44100b8b-a07a-4eda-8e33-5218e1e3407f",
   "metadata": {},
   "source": [
    "## XGBoost 하이퍼파라미터\n",
    "- booster (default gbtree) : 부스팅 알고리즘 (또는 dart, gblinear)\n",
    "- objective (default binary:logistic) : 이진분류 (다중분류: multi:softmax)\n",
    "- max_depth (default 6) : 최대 한도 깊이\n",
    "- learning_rate (default 0.1) : 학습률  \n",
    "  경사하강법: 기울기가 0인 지점을 찾아나감\n",
    "- n_estimators (default 100) : 트리의 수  \n",
    "  learning_rate를 낮췄다면 n_estimators는 올려주어야 한다\n",
    "- subsample (default 1) : 훈련 샘플 개수의 비율\n",
    "- colsample_bytree (default 1) : 특성 개수의 비율\n",
    "- n_jobs (default 1) : 사용 코어 수 (-1: 모든 코어를 다 사용)"
   ]
  },
  {
   "cell_type": "code",
   "execution_count": 46,
   "id": "bcd6c692-e9bb-4eaf-8ec1-b52099f54d79",
   "metadata": {},
   "outputs": [
    {
     "data": {
      "text/plain": [
       "0.9649122807017544"
      ]
     },
     "execution_count": 46,
     "metadata": {},
     "output_type": "execute_result"
    }
   ],
   "source": [
    "model = XGBClassifier(random_state=0,\n",
    "                     booster='gbtree',\n",
    "                     objective='binary:logistic',\n",
    "                     max_depth=5,\n",
    "                     learning_rate=0.1,\n",
    "                     n_estimators=500, # 500이 되기 전에 괜찮은 점수가 나오면 조기종료\n",
    "                     subsample=1,\n",
    "                     colsample_bytree=1,\n",
    "                     n_jobs=-1)\n",
    "model.fit(X_train, y_train)\n",
    "pred = model.predict(X_test)\n",
    "accuracy_score(y_test, pred)\n",
    "\n",
    "# learning_rate=0.1, n_estimators=200 -> 0.9649122807017544\n",
    "# learning_rate=0.05, n_estimators=500 -> 0.9614035087719298\n",
    "# learning_rate=0.1, n_estimators=500 -> 0.9649122807017544"
   ]
  },
  {
   "cell_type": "markdown",
   "id": "d281d590-fdb6-4a32-95c4-1b30adf0dd63",
   "metadata": {},
   "source": [
    "### 조기종료"
   ]
  },
  {
   "cell_type": "code",
   "execution_count": 63,
   "id": "d9fe6882-57ef-416c-9d5a-c99304608ebb",
   "metadata": {},
   "outputs": [
    {
     "name": "stdout",
     "output_type": "stream",
     "text": [
      "[0]\tvalidation_0-logloss:0.61495\n",
      "[1]\tvalidation_0-logloss:0.55350\n",
      "[2]\tvalidation_0-logloss:0.50426\n",
      "[3]\tvalidation_0-logloss:0.45990\n",
      "[4]\tvalidation_0-logloss:0.42274\n",
      "[5]\tvalidation_0-logloss:0.39294\n",
      "[6]\tvalidation_0-logloss:0.36399\n",
      "[7]\tvalidation_0-logloss:0.33934\n",
      "[8]\tvalidation_0-logloss:0.32124\n",
      "[9]\tvalidation_0-logloss:0.30207\n",
      "[10]\tvalidation_0-logloss:0.28493\n",
      "[11]\tvalidation_0-logloss:0.27252\n",
      "[12]\tvalidation_0-logloss:0.25879\n",
      "[13]\tvalidation_0-logloss:0.24627\n",
      "[14]\tvalidation_0-logloss:0.23617\n",
      "[15]\tvalidation_0-logloss:0.22768\n",
      "[16]\tvalidation_0-logloss:0.21963\n",
      "[17]\tvalidation_0-logloss:0.21348\n",
      "[18]\tvalidation_0-logloss:0.20831\n",
      "[19]\tvalidation_0-logloss:0.20246\n",
      "[20]\tvalidation_0-logloss:0.19794\n",
      "[21]\tvalidation_0-logloss:0.19437\n",
      "[22]\tvalidation_0-logloss:0.19148\n",
      "[23]\tvalidation_0-logloss:0.18880\n",
      "[24]\tvalidation_0-logloss:0.18508\n",
      "[25]\tvalidation_0-logloss:0.18194\n",
      "[26]\tvalidation_0-logloss:0.18122\n",
      "[27]\tvalidation_0-logloss:0.17886\n",
      "[28]\tvalidation_0-logloss:0.17772\n",
      "[29]\tvalidation_0-logloss:0.17609\n",
      "[30]\tvalidation_0-logloss:0.17579\n",
      "[31]\tvalidation_0-logloss:0.17420\n",
      "[32]\tvalidation_0-logloss:0.17138\n",
      "[33]\tvalidation_0-logloss:0.17122\n",
      "[34]\tvalidation_0-logloss:0.17050\n",
      "[35]\tvalidation_0-logloss:0.16801\n",
      "[36]\tvalidation_0-logloss:0.16816\n",
      "[37]\tvalidation_0-logloss:0.16733\n",
      "[38]\tvalidation_0-logloss:0.16723\n",
      "[39]\tvalidation_0-logloss:0.16718\n",
      "[40]\tvalidation_0-logloss:0.16722\n",
      "[41]\tvalidation_0-logloss:0.16762\n",
      "[42]\tvalidation_0-logloss:0.16770\n",
      "[43]\tvalidation_0-logloss:0.16673\n",
      "[44]\tvalidation_0-logloss:0.16696\n",
      "[45]\tvalidation_0-logloss:0.16787\n",
      "[46]\tvalidation_0-logloss:0.16854\n",
      "[47]\tvalidation_0-logloss:0.16673\n",
      "[48]\tvalidation_0-logloss:0.16644\n",
      "[49]\tvalidation_0-logloss:0.16729\n",
      "[50]\tvalidation_0-logloss:0.16825\n",
      "[51]\tvalidation_0-logloss:0.16863\n",
      "[52]\tvalidation_0-logloss:0.16956\n",
      "[53]\tvalidation_0-logloss:0.16863\n",
      "[54]\tvalidation_0-logloss:0.16889\n"
     ]
    },
    {
     "name": "stderr",
     "output_type": "stream",
     "text": [
      "C:\\Users\\juwonhee\\anaconda3\\Lib\\site-packages\\xgboost\\callback.py:386: UserWarning: [12:31:37] WARNING: C:\\actions-runner\\_work\\xgboost\\xgboost\\src\\learner.cc:738: \n",
      "Parameters: { \"use_label_encoder\" } are not used.\n",
      "\n",
      "  self.starting_round = model.num_boosted_rounds()\n"
     ]
    },
    {
     "name": "stdout",
     "output_type": "stream",
     "text": [
      "[55]\tvalidation_0-logloss:0.16983\n",
      "[56]\tvalidation_0-logloss:0.17076\n",
      "[57]\tvalidation_0-logloss:0.17019\n"
     ]
    },
    {
     "data": {
      "text/plain": [
       "0.9508771929824561"
      ]
     },
     "execution_count": 63,
     "metadata": {},
     "output_type": "execute_result"
    }
   ],
   "source": [
    "model = XGBClassifier(random_state=0,\n",
    "                      use_label_encoder=False,\n",
    "                      eval_metric='logloss', \n",
    "                     learning_rate = 0.1,\n",
    "                      n_estimators = 500, # 500이 되기 전에 괜찮은 점수가 나오면 조기종료)\n",
    "                      early_stopping_rounds=10) # 10번 이상 돌려도 성능 향상이 없으면 조기종료\n",
    "eval_set = [(X_test, y_test)]\n",
    "model.fit(X_train, y_train, eval_set=eval_set)\n",
    "pred = model.predict(X_test)\n",
    "accuracy_score(y_test, pred)"
   ]
  },
  {
   "cell_type": "markdown",
   "id": "a0017f82-53cd-413e-8147-304f36f5ca72",
   "metadata": {},
   "source": [
    "## 교차검증"
   ]
  },
  {
   "cell_type": "code",
   "execution_count": null,
   "id": "39126762-02d1-46c0-8df6-7ae3421d6768",
   "metadata": {},
   "outputs": [],
   "source": []
  }
 ],
 "metadata": {
  "kernelspec": {
   "display_name": "Python 3 (ipykernel)",
   "language": "python",
   "name": "python3"
  },
  "language_info": {
   "codemirror_mode": {
    "name": "ipython",
    "version": 3
   },
   "file_extension": ".py",
   "mimetype": "text/x-python",
   "name": "python",
   "nbconvert_exporter": "python",
   "pygments_lexer": "ipython3",
   "version": "3.12.7"
  }
 },
 "nbformat": 4,
 "nbformat_minor": 5
}
