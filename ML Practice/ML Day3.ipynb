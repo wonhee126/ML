{
 "cells": [
  {
   "cell_type": "code",
   "execution_count": 1,
   "id": "9df7f357-5347-447f-861c-7d130849fe57",
   "metadata": {},
   "outputs": [],
   "source": [
    "import pandas as pd\n",
    "from sklearn.model_selection import train_test_split\n",
    "from sklearn.metrics import accuracy_score"
   ]
  },
  {
   "cell_type": "markdown",
   "id": "356c0efe-a5d4-403f-aa5d-9179f7c727e1",
   "metadata": {},
   "source": [
    "## 데이터 불러오기"
   ]
  },
  {
   "cell_type": "code",
   "execution_count": 2,
   "id": "512313de-81b2-4731-84f3-9b7b63a1dabd",
   "metadata": {},
   "outputs": [
    {
     "data": {
      "text/plain": [
       "((284, 30), (285, 30), (284,), (285,))"
      ]
     },
     "execution_count": 2,
     "metadata": {},
     "output_type": "execute_result"
    }
   ],
   "source": [
    "# 데이터 생성\n",
    "from sklearn.datasets import load_breast_cancer\n",
    "\n",
    "def make_dataset():\n",
    "    iris = load_breast_cancer()\n",
    "    df = pd.DataFrame(iris.data, columns=iris.feature_names)\n",
    "    df['target'] = iris.target\n",
    "    X_train, X_test, y_train, y_test = train_test_split(\n",
    "        df.drop('target', axis=1), df['target'], test_size=0.5, random_state=1004)\n",
    "    return X_train, X_test, y_train, y_test\n",
    "\n",
    "X_train, X_test, y_train, y_test = make_dataset()\n",
    "X_train.shape, X_test.shape, y_train.shape, y_test.shape"
   ]
  },
  {
   "cell_type": "markdown",
   "id": "7011642c-f5c6-4996-92db-898f1655fac7",
   "metadata": {},
   "source": [
    "test_size가 0.5이므로 5대5로 나누어진 것을 확인할 수 있다."
   ]
  },
  {
   "cell_type": "code",
   "execution_count": 3,
   "id": "b6a76ef5-4187-46c6-9086-62f3e5f1c508",
   "metadata": {},
   "outputs": [
    {
     "data": {
      "text/plain": [
       "target\n",
       "1    190\n",
       "0     94\n",
       "Name: count, dtype: int64"
      ]
     },
     "execution_count": 3,
     "metadata": {},
     "output_type": "execute_result"
    }
   ],
   "source": [
    "# target check\n",
    "y_train.value_counts()"
   ]
  },
  {
   "cell_type": "markdown",
   "id": "440295b2-634a-47e7-9b18-b055d3172d7d",
   "metadata": {},
   "source": [
    "## 의사결정나무"
   ]
  },
  {
   "cell_type": "code",
   "execution_count": 6,
   "id": "e74096ae-f557-411a-94d5-819527289bcd",
   "metadata": {
    "scrolled": true
   },
   "outputs": [
    {
     "data": {
      "text/plain": [
       "0.9263157894736842"
      ]
     },
     "execution_count": 6,
     "metadata": {},
     "output_type": "execute_result"
    }
   ],
   "source": [
    "from sklearn.tree import DecisionTreeClassifier\n",
    "model = DecisionTreeClassifier(random_state=0) # 모델 선택\n",
    "\n",
    "model.fit(X_train, y_train) # 모델 학습\n",
    "pred = model.predict(X_test) # 모델 예측\n",
    "\n",
    "accuracy_score(y_test,pred) # 정확도 평가"
   ]
  },
  {
   "cell_type": "markdown",
   "id": "504fc081-f5c4-4102-bdce-d25944abcb11",
   "metadata": {},
   "source": [
    "### 의사결정나무 하이퍼파라미터\n",
    "- criterion(default gini): 불순도 지표\n",
    "- max_depth(default none): 최대 한도 깊이, 데이터 수가 많지 않을 경우 일정 깊이 이상은 같은 정확도 출력\n",
    "- min_samples_split(default 2): 자식 노드를 갖기 위한 최소한의 데이터 수\n",
    "- min_samples_leaf(default 1): 리프 노드가 되기 위한 최소 샘플 수\n",
    "  "
   ]
  },
  {
   "cell_type": "code",
   "execution_count": 16,
   "id": "cd9a3351-f4f9-46dc-a579-951a424fcfeb",
   "metadata": {},
   "outputs": [
    {
     "data": {
      "text/plain": [
       "0.9228070175438596"
      ]
     },
     "execution_count": 16,
     "metadata": {},
     "output_type": "execute_result"
    }
   ],
   "source": [
    "from sklearn.tree import DecisionTreeClassifier\n",
    "model = DecisionTreeClassifier(criterion='entropy',\n",
    "                               max_depth=7,\n",
    "                               min_samples_split=2,\n",
    "                               min_samples_leaf=2,\n",
    "                               random_state=0) # 모델 선택, 하이퍼파라터\n",
    "\n",
    "model.fit(X_train, y_train) # 모델 학습\n",
    "pred = model.predict(X_test) # 모델 예측\n",
    "\n",
    "accuracy_score(y_test,pred) # 정확도 평가"
   ]
  },
  {
   "cell_type": "markdown",
   "id": "aefff4a5-fac4-468e-aa98-f99bccb5c918",
   "metadata": {},
   "source": [
    "## 랜덤포레스트\n",
    "- 지도학습 알고리즘(분류, 회귀)\n",
    "- 의사결정나무가 여러 개 있는 구성 = 의사결정나무의 앙상블\n",
    "- 성능이 좋음(과대적합 가능성 낮음)\n",
    "- 부트스트랩 샘플링(데이터셋 중복 허용)\n",
    "- 최종 다수결 투표\n",
    "- 앙상블 -> 배깅(랜덤포레스트), 부스팅(XGBoost)\n",
    "  \n",
    "*배깅: 같은 알고리즘으로 여러 모델 만들어 분류  \n",
    "*부스팅: 학습과 예측하며 가중치 반"
   ]
  },
  {
   "cell_type": "code",
   "execution_count": 20,
   "id": "b74ecb3d-2374-4f6b-bae1-9404daebb227",
   "metadata": {},
   "outputs": [
    {
     "data": {
      "text/plain": [
       "0.9438596491228071"
      ]
     },
     "execution_count": 20,
     "metadata": {},
     "output_type": "execute_result"
    }
   ],
   "source": [
    "from sklearn.ensemble import RandomForestClassifier\n",
    "\n",
    "model = RandomForestClassifier(random_state=0)\n",
    "model.fit(X_train, y_train)\n",
    "pred = model.predict(X_test)\n",
    "accuracy_score(y_test, pred)"
   ]
  },
  {
   "cell_type": "markdown",
   "id": "8993dc16-3c8d-4748-8d73-0fdd10af4a61",
   "metadata": {},
   "source": [
    "### 랜덤포레스트 하이퍼파라미터\n",
    "- n_estimators (default 100) : 트리의 수\n",
    "- criterion (default gini) : 불순도 지표\n",
    "- max_depth (default None) : 최대 한도 깊이\n",
    "- min_samples_split (default 2) : 자식 노드를 갖기 위한 최소한의 데이터 수\n",
    "- min_samples_leaf (default 1) : 리프 노드가 되기 위한 최소 샘플 수"
   ]
  },
  {
   "cell_type": "code",
   "execution_count": 23,
   "id": "1d0915b1-2f4f-4c0a-ad5e-09bed4df8aa2",
   "metadata": {},
   "outputs": [
    {
     "data": {
      "text/plain": [
       "0.9473684210526315"
      ]
     },
     "execution_count": 23,
     "metadata": {},
     "output_type": "execute_result"
    }
   ],
   "source": [
    "from sklearn.ensemble import RandomForestClassifier\n",
    "\n",
    "model = RandomForestClassifier(n_estimators=200, # 트리가 많으면 속도가 느리다.\n",
    "                               max_depth=3,\n",
    "                               random_state=0)\n",
    "model.fit(X_train, y_train)\n",
    "pred = model.predict(X_test)\n",
    "accuracy_score(y_test, pred)"
   ]
  },
  {
   "cell_type": "code",
   "execution_count": null,
   "id": "1a44980c-92ba-4766-b71f-857f2d3d2156",
   "metadata": {},
   "outputs": [],
   "source": []
  }
 ],
 "metadata": {
  "kernelspec": {
   "display_name": "Python 3 (ipykernel)",
   "language": "python",
   "name": "python3"
  },
  "language_info": {
   "codemirror_mode": {
    "name": "ipython",
    "version": 3
   },
   "file_extension": ".py",
   "mimetype": "text/x-python",
   "name": "python",
   "nbconvert_exporter": "python",
   "pygments_lexer": "ipython3",
   "version": "3.12.7"
  }
 },
 "nbformat": 4,
 "nbformat_minor": 5
}
