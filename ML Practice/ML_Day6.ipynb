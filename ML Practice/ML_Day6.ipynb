{
 "cells": [
  {
   "cell_type": "markdown",
   "id": "2a2f2898-2684-4bc4-9315-44f7a5c3f682",
   "metadata": {},
   "source": [
    "## 지도학습(회귀)"
   ]
  },
  {
   "cell_type": "code",
   "execution_count": 1,
   "id": "06a14cf6-fbc2-4a76-b443-b7f74e742dba",
   "metadata": {},
   "outputs": [],
   "source": [
    "import pandas as pd\n",
    "from sklearn.model_selection import train_test_split\n",
    "from sklearn.metrics import mean_squared_error"
   ]
  },
  {
   "cell_type": "markdown",
   "id": "a4bef928-827c-44fc-8603-f7df861104fa",
   "metadata": {},
   "source": [
    "## 데이터 불러오기"
   ]
  },
  {
   "cell_type": "code",
   "execution_count": 17,
   "id": "f1a246be-ed3f-4eaa-8c02-f76e7a99f24a",
   "metadata": {},
   "outputs": [
    {
     "data": {
      "text/plain": [
       "((353, 10), (89, 10), (353,), (89,))"
      ]
     },
     "execution_count": 17,
     "metadata": {},
     "output_type": "execute_result"
    }
   ],
   "source": [
    "# 데이터 생성\n",
    "from sklearn.datasets import load_diabetes # 당뇨병 환자 데이터\n",
    "\n",
    "def make_dataset():\n",
    "    dataset = load_diabetes()\n",
    "    df = pd.DataFrame(dataset.data, columns=dataset.feature_names)\n",
    "    df['target'] = dataset.target\n",
    "    X_train, X_test, y_train, y_test = train_test_split(\n",
    "        df.drop('target', axis=1), df['target'], test_size=0.2, random_state=1004)\n",
    "    return X_train, X_test, y_train, y_test\n",
    "\n",
    "X_train, X_test, y_train, y_test = make_dataset()\n",
    "X_train.shape, X_test.shape, y_train.shape, y_test.shape"
   ]
  },
  {
   "cell_type": "code",
   "execution_count": 13,
   "id": "35b55fbf-2e70-4fdc-9825-0e094c04e8cb",
   "metadata": {},
   "outputs": [
    {
     "data": {
      "text/html": [
       "<div>\n",
       "<style scoped>\n",
       "    .dataframe tbody tr th:only-of-type {\n",
       "        vertical-align: middle;\n",
       "    }\n",
       "\n",
       "    .dataframe tbody tr th {\n",
       "        vertical-align: top;\n",
       "    }\n",
       "\n",
       "    .dataframe thead th {\n",
       "        text-align: right;\n",
       "    }\n",
       "</style>\n",
       "<table border=\"1\" class=\"dataframe\">\n",
       "  <thead>\n",
       "    <tr style=\"text-align: right;\">\n",
       "      <th></th>\n",
       "      <th>age</th>\n",
       "      <th>sex</th>\n",
       "      <th>bmi</th>\n",
       "      <th>bp</th>\n",
       "      <th>s1</th>\n",
       "      <th>s2</th>\n",
       "      <th>s3</th>\n",
       "      <th>s4</th>\n",
       "      <th>s5</th>\n",
       "      <th>s6</th>\n",
       "    </tr>\n",
       "  </thead>\n",
       "  <tbody>\n",
       "    <tr>\n",
       "      <th>74</th>\n",
       "      <td>0.012648</td>\n",
       "      <td>0.050680</td>\n",
       "      <td>0.002417</td>\n",
       "      <td>0.056301</td>\n",
       "      <td>0.027326</td>\n",
       "      <td>0.017162</td>\n",
       "      <td>0.041277</td>\n",
       "      <td>-0.039493</td>\n",
       "      <td>0.003709</td>\n",
       "      <td>0.073480</td>\n",
       "    </tr>\n",
       "    <tr>\n",
       "      <th>26</th>\n",
       "      <td>-0.107226</td>\n",
       "      <td>-0.044642</td>\n",
       "      <td>-0.077342</td>\n",
       "      <td>-0.026328</td>\n",
       "      <td>-0.089630</td>\n",
       "      <td>-0.096198</td>\n",
       "      <td>0.026550</td>\n",
       "      <td>-0.076395</td>\n",
       "      <td>-0.042571</td>\n",
       "      <td>-0.005220</td>\n",
       "    </tr>\n",
       "    <tr>\n",
       "      <th>45</th>\n",
       "      <td>0.027178</td>\n",
       "      <td>0.050680</td>\n",
       "      <td>-0.035307</td>\n",
       "      <td>0.032201</td>\n",
       "      <td>-0.011201</td>\n",
       "      <td>0.001504</td>\n",
       "      <td>-0.010266</td>\n",
       "      <td>-0.002592</td>\n",
       "      <td>-0.014960</td>\n",
       "      <td>-0.050783</td>\n",
       "    </tr>\n",
       "  </tbody>\n",
       "</table>\n",
       "</div>"
      ],
      "text/plain": [
       "         age       sex       bmi        bp        s1        s2        s3  \\\n",
       "74  0.012648  0.050680  0.002417  0.056301  0.027326  0.017162  0.041277   \n",
       "26 -0.107226 -0.044642 -0.077342 -0.026328 -0.089630 -0.096198  0.026550   \n",
       "45  0.027178  0.050680 -0.035307  0.032201 -0.011201  0.001504 -0.010266   \n",
       "\n",
       "          s4        s5        s6  \n",
       "74 -0.039493  0.003709  0.073480  \n",
       "26 -0.076395 -0.042571 -0.005220  \n",
       "45 -0.002592 -0.014960 -0.050783  "
      ]
     },
     "execution_count": 13,
     "metadata": {},
     "output_type": "execute_result"
    }
   ],
   "source": [
    "# train sample\n",
    "X_train.head(3)"
   ]
  },
  {
   "cell_type": "code",
   "execution_count": 14,
   "id": "0fff23b5-2f54-4808-998f-4ef54d0df73e",
   "metadata": {},
   "outputs": [
    {
     "data": {
      "text/plain": [
       "74      85.0\n",
       "26     137.0\n",
       "45      53.0\n",
       "389     51.0\n",
       "154    197.0\n",
       "Name: target, dtype: float64"
      ]
     },
     "execution_count": 14,
     "metadata": {},
     "output_type": "execute_result"
    }
   ],
   "source": [
    "# target sample\n",
    "y_train.head()"
   ]
  },
  {
   "cell_type": "code",
   "execution_count": 15,
   "id": "f9fd0caf-c0ab-49be-8e0f-22735eb9b692",
   "metadata": {},
   "outputs": [
    {
     "data": {
      "text/plain": [
       "<Axes: >"
      ]
     },
     "execution_count": 15,
     "metadata": {},
     "output_type": "execute_result"
    },
    {
     "data": {
      "image/png": "[encoded data removed]",
      "text/plain": [
       "<Figure size 640x480 with 1 Axes>"
      ]
     },
     "metadata": {},
     "output_type": "display_data"
    }
   ],
   "source": [
    "# target check\n",
    "# 당뇨별 진행률(target)\n",
    "y_train.hist()"
   ]
  },
  {
   "cell_type": "markdown",
   "id": "03f3ec81-3665-4924-b6a8-2a82081ae911",
   "metadata": {},
   "source": [
    "50~100 사이가 가장 많고, x축 값이 증가함에 따라 그 수치는 점점 작아진다."
   ]
  },
  {
   "cell_type": "markdown",
   "id": "decb7a96-283a-4e49-8c97-b44c6392f560",
   "metadata": {},
   "source": [
    "## 선형 회귀"
   ]
  },
  {
   "cell_type": "code",
   "execution_count": 18,
   "id": "f3ede2fc-c277-4d7b-911c-45cfbe40d026",
   "metadata": {
    "scrolled": true
   },
   "outputs": [
    {
     "data": {
      "text/plain": [
       "2707.6318521641583"
      ]
     },
     "execution_count": 18,
     "metadata": {},
     "output_type": "execute_result"
    }
   ],
   "source": [
    "# 선형 회귀\n",
    "from sklearn.linear_model import LinearRegression\n",
    "model = LinearRegression()\n",
    "model.fit(X_train, y_train)\n",
    "pred = model.predict(X_test)\n",
    "mean_squared_error(y_test, pred) # 오차숫자는 작을수록 좋음"
   ]
  },
  {
   "cell_type": "markdown",
   "id": "cd922dd2-551f-40f4-888a-ca7ca85fa728",
   "metadata": {},
   "source": [
    "## 릿지 회귀"
   ]
  },
  {
   "cell_type": "code",
   "execution_count": 33,
   "id": "a8ff1f9d-cb94-4a77-a61e-9327cd90f65f",
   "metadata": {},
   "outputs": [
    {
     "data": {
      "text/plain": [
       "3522.1191842072662"
      ]
     },
     "execution_count": 33,
     "metadata": {},
     "output_type": "execute_result"
    }
   ],
   "source": [
    "# 릿지 회귀\n",
    "from sklearn.linear_model import Ridge\n",
    "model = Ridge() # default alpha=1 이것으로 규제를 조정할 수 있다.\n",
    "model.fit(X_train, y_train)\n",
    "pred = model.predict(X_test)\n",
    "mean_squared_error(y_test, pred) # 오차숫자는 작을수록 좋음"
   ]
  },
  {
   "cell_type": "markdown",
   "id": "c05d847d-92bd-4070-b8fd-db29fef88a06",
   "metadata": {},
   "source": [
    "규제가 있는 릿지 회귀임에도 오차가 더 크다.  \n",
    "오차가 더 크므로 더 좋지 못한 모델이 된다."
   ]
  },
  {
   "cell_type": "code",
   "execution_count": 34,
   "id": "47735c44-6e10-4f2b-b1e5-a4f2505afb66",
   "metadata": {},
   "outputs": [
    {
     "data": {
      "text/plain": [
       "array([  31.2934206 ,  -71.44865465,  267.60596214,  197.36249197,\n",
       "         14.61325736,  -13.88423665, -124.64983613,  106.21296724,\n",
       "        221.0684933 ,  101.20254637])"
      ]
     },
     "execution_count": 34,
     "metadata": {},
     "output_type": "execute_result"
    }
   ],
   "source": [
    "# 회귀 계수\n",
    "# 출력되는 값들은 피처들의 순서다. (age, sex..의 회귀 계수)\n",
    "model.coef_"
   ]
  },
  {
   "cell_type": "markdown",
   "id": "52c2522f-f87a-44ef-99aa-e71ec9b95644",
   "metadata": {},
   "source": [
    "어떤 변수의 회귀계수인지 판단하기 어려우므로 dataframe으로 변경한다."
   ]
  },
  {
   "cell_type": "code",
   "execution_count": 35,
   "id": "a68c99dc-4ebb-4b31-bafb-48b30cb60e0e",
   "metadata": {},
   "outputs": [
    {
     "data": {
      "text/html": [
       "<div>\n",
       "<style scoped>\n",
       "    .dataframe tbody tr th:only-of-type {\n",
       "        vertical-align: middle;\n",
       "    }\n",
       "\n",
       "    .dataframe tbody tr th {\n",
       "        vertical-align: top;\n",
       "    }\n",
       "\n",
       "    .dataframe thead th {\n",
       "        text-align: right;\n",
       "    }\n",
       "</style>\n",
       "<table border=\"1\" class=\"dataframe\">\n",
       "  <thead>\n",
       "    <tr style=\"text-align: right;\">\n",
       "      <th></th>\n",
       "      <th>alpha1</th>\n",
       "    </tr>\n",
       "  </thead>\n",
       "  <tbody>\n",
       "    <tr>\n",
       "      <th>age</th>\n",
       "      <td>31.293421</td>\n",
       "    </tr>\n",
       "    <tr>\n",
       "      <th>sex</th>\n",
       "      <td>-71.448655</td>\n",
       "    </tr>\n",
       "    <tr>\n",
       "      <th>bmi</th>\n",
       "      <td>267.605962</td>\n",
       "    </tr>\n",
       "    <tr>\n",
       "      <th>bp</th>\n",
       "      <td>197.362492</td>\n",
       "    </tr>\n",
       "    <tr>\n",
       "      <th>s1</th>\n",
       "      <td>14.613257</td>\n",
       "    </tr>\n",
       "    <tr>\n",
       "      <th>s2</th>\n",
       "      <td>-13.884237</td>\n",
       "    </tr>\n",
       "    <tr>\n",
       "      <th>s3</th>\n",
       "      <td>-124.649836</td>\n",
       "    </tr>\n",
       "    <tr>\n",
       "      <th>s4</th>\n",
       "      <td>106.212967</td>\n",
       "    </tr>\n",
       "    <tr>\n",
       "      <th>s5</th>\n",
       "      <td>221.068493</td>\n",
       "    </tr>\n",
       "    <tr>\n",
       "      <th>s6</th>\n",
       "      <td>101.202546</td>\n",
       "    </tr>\n",
       "  </tbody>\n",
       "</table>\n",
       "</div>"
      ],
      "text/plain": [
       "         alpha1\n",
       "age   31.293421\n",
       "sex  -71.448655\n",
       "bmi  267.605962\n",
       "bp   197.362492\n",
       "s1    14.613257\n",
       "s2   -13.884237\n",
       "s3  -124.649836\n",
       "s4   106.212967\n",
       "s5   221.068493\n",
       "s6   101.202546"
      ]
     },
     "execution_count": 35,
     "metadata": {},
     "output_type": "execute_result"
    }
   ],
   "source": [
    "pd.DataFrame(data=model.coef_, index=X_train.columns, columns=['alpha1'])"
   ]
  },
  {
   "cell_type": "code",
   "execution_count": 36,
   "id": "929de1d4-accf-48b4-a2a1-5c4586b56a3d",
   "metadata": {},
   "outputs": [
    {
     "data": {
      "text/html": [
       "<div>\n",
       "<style scoped>\n",
       "    .dataframe tbody tr th:only-of-type {\n",
       "        vertical-align: middle;\n",
       "    }\n",
       "\n",
       "    .dataframe tbody tr th {\n",
       "        vertical-align: top;\n",
       "    }\n",
       "\n",
       "    .dataframe thead th {\n",
       "        text-align: right;\n",
       "    }\n",
       "</style>\n",
       "<table border=\"1\" class=\"dataframe\">\n",
       "  <thead>\n",
       "    <tr style=\"text-align: right;\">\n",
       "      <th></th>\n",
       "      <th>alpha1</th>\n",
       "    </tr>\n",
       "  </thead>\n",
       "  <tbody>\n",
       "    <tr>\n",
       "      <th>age</th>\n",
       "      <td>31.293421</td>\n",
       "    </tr>\n",
       "    <tr>\n",
       "      <th>sex</th>\n",
       "      <td>-71.448655</td>\n",
       "    </tr>\n",
       "    <tr>\n",
       "      <th>bmi</th>\n",
       "      <td>267.605962</td>\n",
       "    </tr>\n",
       "    <tr>\n",
       "      <th>bp</th>\n",
       "      <td>197.362492</td>\n",
       "    </tr>\n",
       "    <tr>\n",
       "      <th>s1</th>\n",
       "      <td>14.613257</td>\n",
       "    </tr>\n",
       "    <tr>\n",
       "      <th>s2</th>\n",
       "      <td>-13.884237</td>\n",
       "    </tr>\n",
       "    <tr>\n",
       "      <th>s3</th>\n",
       "      <td>-124.649836</td>\n",
       "    </tr>\n",
       "    <tr>\n",
       "      <th>s4</th>\n",
       "      <td>106.212967</td>\n",
       "    </tr>\n",
       "    <tr>\n",
       "      <th>s5</th>\n",
       "      <td>221.068493</td>\n",
       "    </tr>\n",
       "    <tr>\n",
       "      <th>s6</th>\n",
       "      <td>101.202546</td>\n",
       "    </tr>\n",
       "  </tbody>\n",
       "</table>\n",
       "</div>"
      ],
      "text/plain": [
       "         alpha1\n",
       "age   31.293421\n",
       "sex  -71.448655\n",
       "bmi  267.605962\n",
       "bp   197.362492\n",
       "s1    14.613257\n",
       "s2   -13.884237\n",
       "s3  -124.649836\n",
       "s4   106.212967\n",
       "s5   221.068493\n",
       "s6   101.202546"
      ]
     },
     "execution_count": 36,
     "metadata": {},
     "output_type": "execute_result"
    }
   ],
   "source": [
    "coef = pd.DataFrame(data=model.coef_, index=X_train.columns, columns=['alpha1'])\n",
    "coef"
   ]
  },
  {
   "cell_type": "code",
   "execution_count": 37,
   "id": "cc12dd16-e39b-4414-a6e9-60a59c506d5a",
   "metadata": {
    "scrolled": true
   },
   "outputs": [
    {
     "data": {
      "text/plain": [
       "5521.884843903383"
      ]
     },
     "execution_count": 37,
     "metadata": {},
     "output_type": "execute_result"
    }
   ],
   "source": [
    "# 릿지 회귀 alpha=10으로 조정\n",
    "from sklearn.linear_model import Ridge\n",
    "model = Ridge(alpha=10)\n",
    "model.fit(X_train, y_train)\n",
    "pred = model.predict(X_test)\n",
    "mean_squared_error(y_test, pred) # 오차숫자는 작을수록 좋음"
   ]
  },
  {
   "cell_type": "code",
   "execution_count": 39,
   "id": "a3d3643f-382c-4fc4-9f94-ea573f09c050",
   "metadata": {},
   "outputs": [
    {
     "data": {
      "text/html": [
       "<div>\n",
       "<style scoped>\n",
       "    .dataframe tbody tr th:only-of-type {\n",
       "        vertical-align: middle;\n",
       "    }\n",
       "\n",
       "    .dataframe tbody tr th {\n",
       "        vertical-align: top;\n",
       "    }\n",
       "\n",
       "    .dataframe thead th {\n",
       "        text-align: right;\n",
       "    }\n",
       "</style>\n",
       "<table border=\"1\" class=\"dataframe\">\n",
       "  <thead>\n",
       "    <tr style=\"text-align: right;\">\n",
       "      <th></th>\n",
       "      <th>alpha1</th>\n",
       "      <th>alpha10</th>\n",
       "    </tr>\n",
       "  </thead>\n",
       "  <tbody>\n",
       "    <tr>\n",
       "      <th>age</th>\n",
       "      <td>31.293421</td>\n",
       "      <td>16.703166</td>\n",
       "    </tr>\n",
       "    <tr>\n",
       "      <th>sex</th>\n",
       "      <td>-71.448655</td>\n",
       "      <td>-1.796418</td>\n",
       "    </tr>\n",
       "    <tr>\n",
       "      <th>bmi</th>\n",
       "      <td>267.605962</td>\n",
       "      <td>61.026376</td>\n",
       "    </tr>\n",
       "    <tr>\n",
       "      <th>bp</th>\n",
       "      <td>197.362492</td>\n",
       "      <td>47.434846</td>\n",
       "    </tr>\n",
       "    <tr>\n",
       "      <th>s1</th>\n",
       "      <td>14.613257</td>\n",
       "      <td>18.491238</td>\n",
       "    </tr>\n",
       "    <tr>\n",
       "      <th>s2</th>\n",
       "      <td>-13.884237</td>\n",
       "      <td>13.440104</td>\n",
       "    </tr>\n",
       "    <tr>\n",
       "      <th>s3</th>\n",
       "      <td>-124.649836</td>\n",
       "      <td>-35.542087</td>\n",
       "    </tr>\n",
       "    <tr>\n",
       "      <th>s4</th>\n",
       "      <td>106.212967</td>\n",
       "      <td>38.896140</td>\n",
       "    </tr>\n",
       "    <tr>\n",
       "      <th>s5</th>\n",
       "      <td>221.068493</td>\n",
       "      <td>55.276290</td>\n",
       "    </tr>\n",
       "    <tr>\n",
       "      <th>s6</th>\n",
       "      <td>101.202546</td>\n",
       "      <td>35.868345</td>\n",
       "    </tr>\n",
       "  </tbody>\n",
       "</table>\n",
       "</div>"
      ],
      "text/plain": [
       "         alpha1    alpha10\n",
       "age   31.293421  16.703166\n",
       "sex  -71.448655  -1.796418\n",
       "bmi  267.605962  61.026376\n",
       "bp   197.362492  47.434846\n",
       "s1    14.613257  18.491238\n",
       "s2   -13.884237  13.440104\n",
       "s3  -124.649836 -35.542087\n",
       "s4   106.212967  38.896140\n",
       "s5   221.068493  55.276290\n",
       "s6   101.202546  35.868345"
      ]
     },
     "execution_count": 39,
     "metadata": {},
     "output_type": "execute_result"
    }
   ],
   "source": [
    "coef['alpha10'] = model.coef_\n",
    "coef"
   ]
  },
  {
   "cell_type": "code",
   "execution_count": 40,
   "id": "2cf8cfae-f748-4bdb-b67b-b0889aba10ec",
   "metadata": {},
   "outputs": [
    {
     "data": {
      "text/plain": [
       "2744.9026742146693"
      ]
     },
     "execution_count": 40,
     "metadata": {},
     "output_type": "execute_result"
    }
   ],
   "source": [
    "# 릿지 회귀 alpha=0.1로 조정\n",
    "from sklearn.linear_model import Ridge\n",
    "model = Ridge(alpha=0.1)\n",
    "model.fit(X_train, y_train)\n",
    "pred = model.predict(X_test)\n",
    "mean_squared_error(y_test, pred) # 오차숫자는 작을수록 좋음"
   ]
  },
  {
   "cell_type": "code",
   "execution_count": 41,
   "id": "ea4800bd-0841-4111-8bf9-4cb25027b15a",
   "metadata": {},
   "outputs": [
    {
     "data": {
      "text/html": [
       "<div>\n",
       "<style scoped>\n",
       "    .dataframe tbody tr th:only-of-type {\n",
       "        vertical-align: middle;\n",
       "    }\n",
       "\n",
       "    .dataframe tbody tr th {\n",
       "        vertical-align: top;\n",
       "    }\n",
       "\n",
       "    .dataframe thead th {\n",
       "        text-align: right;\n",
       "    }\n",
       "</style>\n",
       "<table border=\"1\" class=\"dataframe\">\n",
       "  <thead>\n",
       "    <tr style=\"text-align: right;\">\n",
       "      <th></th>\n",
       "      <th>alpha1</th>\n",
       "      <th>alpha10</th>\n",
       "      <th>alpha0.1</th>\n",
       "    </tr>\n",
       "  </thead>\n",
       "  <tbody>\n",
       "    <tr>\n",
       "      <th>age</th>\n",
       "      <td>31.293421</td>\n",
       "      <td>16.703166</td>\n",
       "      <td>4.275162</td>\n",
       "    </tr>\n",
       "    <tr>\n",
       "      <th>sex</th>\n",
       "      <td>-71.448655</td>\n",
       "      <td>-1.796418</td>\n",
       "      <td>-205.210484</td>\n",
       "    </tr>\n",
       "    <tr>\n",
       "      <th>bmi</th>\n",
       "      <td>267.605962</td>\n",
       "      <td>61.026376</td>\n",
       "      <td>450.909749</td>\n",
       "    </tr>\n",
       "    <tr>\n",
       "      <th>bp</th>\n",
       "      <td>197.362492</td>\n",
       "      <td>47.434846</td>\n",
       "      <td>331.923682</td>\n",
       "    </tr>\n",
       "    <tr>\n",
       "      <th>s1</th>\n",
       "      <td>14.613257</td>\n",
       "      <td>18.491238</td>\n",
       "      <td>-84.311149</td>\n",
       "    </tr>\n",
       "    <tr>\n",
       "      <th>s2</th>\n",
       "      <td>-13.884237</td>\n",
       "      <td>13.440104</td>\n",
       "      <td>-54.662514</td>\n",
       "    </tr>\n",
       "    <tr>\n",
       "      <th>s3</th>\n",
       "      <td>-124.649836</td>\n",
       "      <td>-35.542087</td>\n",
       "      <td>-158.706512</td>\n",
       "    </tr>\n",
       "    <tr>\n",
       "      <th>s4</th>\n",
       "      <td>106.212967</td>\n",
       "      <td>38.896140</td>\n",
       "      <td>114.066890</td>\n",
       "    </tr>\n",
       "    <tr>\n",
       "      <th>s5</th>\n",
       "      <td>221.068493</td>\n",
       "      <td>55.276290</td>\n",
       "      <td>391.231834</td>\n",
       "    </tr>\n",
       "    <tr>\n",
       "      <th>s6</th>\n",
       "      <td>101.202546</td>\n",
       "      <td>35.868345</td>\n",
       "      <td>78.555458</td>\n",
       "    </tr>\n",
       "  </tbody>\n",
       "</table>\n",
       "</div>"
      ],
      "text/plain": [
       "         alpha1    alpha10    alpha0.1\n",
       "age   31.293421  16.703166    4.275162\n",
       "sex  -71.448655  -1.796418 -205.210484\n",
       "bmi  267.605962  61.026376  450.909749\n",
       "bp   197.362492  47.434846  331.923682\n",
       "s1    14.613257  18.491238  -84.311149\n",
       "s2   -13.884237  13.440104  -54.662514\n",
       "s3  -124.649836 -35.542087 -158.706512\n",
       "s4   106.212967  38.896140  114.066890\n",
       "s5   221.068493  55.276290  391.231834\n",
       "s6   101.202546  35.868345   78.555458"
      ]
     },
     "execution_count": 41,
     "metadata": {},
     "output_type": "execute_result"
    }
   ],
   "source": [
    "coef['alpha0.1'] = model.coef_\n",
    "coef"
   ]
  },
  {
   "cell_type": "code",
   "execution_count": 42,
   "id": "07346ac4-51e0-4318-9b44-a647d687a826",
   "metadata": {},
   "outputs": [
    {
     "data": {
      "text/plain": [
       "2699.6595785438312"
      ]
     },
     "execution_count": 42,
     "metadata": {},
     "output_type": "execute_result"
    }
   ],
   "source": [
    "# 릿지 회귀 alpha=0.05로 조정\n",
    "from sklearn.linear_model import Ridge\n",
    "model = Ridge(alpha=0.05)\n",
    "model.fit(X_train, y_train)\n",
    "pred = model.predict(X_test)\n",
    "mean_squared_error(y_test, pred) # 오차숫자는 작을수록 좋음"
   ]
  },
  {
   "cell_type": "code",
   "execution_count": 43,
   "id": "6bfceafe-a9fe-477d-b9b6-e1d3c46a2b68",
   "metadata": {},
   "outputs": [
    {
     "data": {
      "text/html": [
       "<div>\n",
       "<style scoped>\n",
       "    .dataframe tbody tr th:only-of-type {\n",
       "        vertical-align: middle;\n",
       "    }\n",
       "\n",
       "    .dataframe tbody tr th {\n",
       "        vertical-align: top;\n",
       "    }\n",
       "\n",
       "    .dataframe thead th {\n",
       "        text-align: right;\n",
       "    }\n",
       "</style>\n",
       "<table border=\"1\" class=\"dataframe\">\n",
       "  <thead>\n",
       "    <tr style=\"text-align: right;\">\n",
       "      <th></th>\n",
       "      <th>alpha1</th>\n",
       "      <th>alpha10</th>\n",
       "      <th>alpha0.1</th>\n",
       "      <th>alpha0.05</th>\n",
       "    </tr>\n",
       "  </thead>\n",
       "  <tbody>\n",
       "    <tr>\n",
       "      <th>age</th>\n",
       "      <td>31.293421</td>\n",
       "      <td>16.703166</td>\n",
       "      <td>4.275162</td>\n",
       "      <td>-0.508850</td>\n",
       "    </tr>\n",
       "    <tr>\n",
       "      <th>sex</th>\n",
       "      <td>-71.448655</td>\n",
       "      <td>-1.796418</td>\n",
       "      <td>-205.210484</td>\n",
       "      <td>-223.345659</td>\n",
       "    </tr>\n",
       "    <tr>\n",
       "      <th>bmi</th>\n",
       "      <td>267.605962</td>\n",
       "      <td>61.026376</td>\n",
       "      <td>450.909749</td>\n",
       "      <td>469.447848</td>\n",
       "    </tr>\n",
       "    <tr>\n",
       "      <th>bp</th>\n",
       "      <td>197.362492</td>\n",
       "      <td>47.434846</td>\n",
       "      <td>331.923682</td>\n",
       "      <td>348.368885</td>\n",
       "    </tr>\n",
       "    <tr>\n",
       "      <th>s1</th>\n",
       "      <td>14.613257</td>\n",
       "      <td>18.491238</td>\n",
       "      <td>-84.311149</td>\n",
       "      <td>-146.952481</td>\n",
       "    </tr>\n",
       "    <tr>\n",
       "      <th>s2</th>\n",
       "      <td>-13.884237</td>\n",
       "      <td>13.440104</td>\n",
       "      <td>-54.662514</td>\n",
       "      <td>-18.297550</td>\n",
       "    </tr>\n",
       "    <tr>\n",
       "      <th>s3</th>\n",
       "      <td>-124.649836</td>\n",
       "      <td>-35.542087</td>\n",
       "      <td>-158.706512</td>\n",
       "      <td>-141.658486</td>\n",
       "    </tr>\n",
       "    <tr>\n",
       "      <th>s4</th>\n",
       "      <td>106.212967</td>\n",
       "      <td>38.896140</td>\n",
       "      <td>114.066890</td>\n",
       "      <td>115.860926</td>\n",
       "    </tr>\n",
       "    <tr>\n",
       "      <th>s5</th>\n",
       "      <td>221.068493</td>\n",
       "      <td>55.276290</td>\n",
       "      <td>391.231834</td>\n",
       "      <td>432.508101</td>\n",
       "    </tr>\n",
       "    <tr>\n",
       "      <th>s6</th>\n",
       "      <td>101.202546</td>\n",
       "      <td>35.868345</td>\n",
       "      <td>78.555458</td>\n",
       "      <td>69.578796</td>\n",
       "    </tr>\n",
       "  </tbody>\n",
       "</table>\n",
       "</div>"
      ],
      "text/plain": [
       "         alpha1    alpha10    alpha0.1   alpha0.05\n",
       "age   31.293421  16.703166    4.275162   -0.508850\n",
       "sex  -71.448655  -1.796418 -205.210484 -223.345659\n",
       "bmi  267.605962  61.026376  450.909749  469.447848\n",
       "bp   197.362492  47.434846  331.923682  348.368885\n",
       "s1    14.613257  18.491238  -84.311149 -146.952481\n",
       "s2   -13.884237  13.440104  -54.662514  -18.297550\n",
       "s3  -124.649836 -35.542087 -158.706512 -141.658486\n",
       "s4   106.212967  38.896140  114.066890  115.860926\n",
       "s5   221.068493  55.276290  391.231834  432.508101\n",
       "s6   101.202546  35.868345   78.555458   69.578796"
      ]
     },
     "execution_count": 43,
     "metadata": {},
     "output_type": "execute_result"
    }
   ],
   "source": [
    "coef['alpha0.05'] = model.coef_\n",
    "coef"
   ]
  },
  {
   "cell_type": "markdown",
   "id": "6e4e0b9f-b885-4cc4-a8b2-4c9f9d396045",
   "metadata": {},
   "source": [
    "## 라쏘 회귀"
   ]
  },
  {
   "cell_type": "code",
   "execution_count": 45,
   "id": "a7f2f078-965c-4bfc-9318-1fe8e8bd86e1",
   "metadata": {
    "scrolled": true
   },
   "outputs": [
    {
     "data": {
      "text/plain": [
       "4179.152642946345"
      ]
     },
     "execution_count": 45,
     "metadata": {},
     "output_type": "execute_result"
    }
   ],
   "source": [
    "# 라쏘 회귀\n",
    "from sklearn.linear_model import Lasso\n",
    "model = Lasso() # default alpha 1\n",
    "model.fit(X_train, y_train)\n",
    "pred = model.predict(X_test)\n",
    "mean_squared_error(y_test, pred) # 오차숫자는 작을수록 좋음"
   ]
  },
  {
   "cell_type": "code",
   "execution_count": 47,
   "id": "7de25f8d-a826-4be7-9f60-8c0b8d77349a",
   "metadata": {},
   "outputs": [
    {
     "data": {
      "text/html": [
       "<div>\n",
       "<style scoped>\n",
       "    .dataframe tbody tr th:only-of-type {\n",
       "        vertical-align: middle;\n",
       "    }\n",
       "\n",
       "    .dataframe tbody tr th {\n",
       "        vertical-align: top;\n",
       "    }\n",
       "\n",
       "    .dataframe thead th {\n",
       "        text-align: right;\n",
       "    }\n",
       "</style>\n",
       "<table border=\"1\" class=\"dataframe\">\n",
       "  <thead>\n",
       "    <tr style=\"text-align: right;\">\n",
       "      <th></th>\n",
       "      <th>alpha1</th>\n",
       "    </tr>\n",
       "  </thead>\n",
       "  <tbody>\n",
       "    <tr>\n",
       "      <th>age</th>\n",
       "      <td>0.000000</td>\n",
       "    </tr>\n",
       "    <tr>\n",
       "      <th>sex</th>\n",
       "      <td>-0.000000</td>\n",
       "    </tr>\n",
       "    <tr>\n",
       "      <th>bmi</th>\n",
       "      <td>343.589790</td>\n",
       "    </tr>\n",
       "    <tr>\n",
       "      <th>bp</th>\n",
       "      <td>46.369923</td>\n",
       "    </tr>\n",
       "    <tr>\n",
       "      <th>s1</th>\n",
       "      <td>0.000000</td>\n",
       "    </tr>\n",
       "    <tr>\n",
       "      <th>s2</th>\n",
       "      <td>0.000000</td>\n",
       "    </tr>\n",
       "    <tr>\n",
       "      <th>s3</th>\n",
       "      <td>-0.000000</td>\n",
       "    </tr>\n",
       "    <tr>\n",
       "      <th>s4</th>\n",
       "      <td>0.000000</td>\n",
       "    </tr>\n",
       "    <tr>\n",
       "      <th>s5</th>\n",
       "      <td>245.170617</td>\n",
       "    </tr>\n",
       "    <tr>\n",
       "      <th>s6</th>\n",
       "      <td>0.000000</td>\n",
       "    </tr>\n",
       "  </tbody>\n",
       "</table>\n",
       "</div>"
      ],
      "text/plain": [
       "         alpha1\n",
       "age    0.000000\n",
       "sex   -0.000000\n",
       "bmi  343.589790\n",
       "bp    46.369923\n",
       "s1     0.000000\n",
       "s2     0.000000\n",
       "s3    -0.000000\n",
       "s4     0.000000\n",
       "s5   245.170617\n",
       "s6     0.000000"
      ]
     },
     "execution_count": 47,
     "metadata": {},
     "output_type": "execute_result"
    }
   ],
   "source": [
    "coef = pd.DataFrame(data=model.coef_, index=X_train.columns, columns=['alpha1'])\n",
    "coef\n",
    "# 중요하다고 생각되는 피처만 남겨두고 나머지는 0으로 만든다."
   ]
  },
  {
   "cell_type": "code",
   "execution_count": 48,
   "id": "66b4d79a-8b4c-4861-8bd1-770555111ab4",
   "metadata": {},
   "outputs": [
    {
     "data": {
      "text/plain": [
       "6398.637179449031"
      ]
     },
     "execution_count": 48,
     "metadata": {},
     "output_type": "execute_result"
    }
   ],
   "source": [
    "# 라쏘 회귀 alpha2\n",
    "from sklearn.linear_model import Lasso\n",
    "model = Lasso(alpha=2) \n",
    "model.fit(X_train, y_train)\n",
    "pred = model.predict(X_test)\n",
    "mean_squared_error(y_test, pred) # 오차숫자는 작을수록 좋음"
   ]
  },
  {
   "cell_type": "code",
   "execution_count": 49,
   "id": "939c2ac0-0fb3-4594-bc09-43c0ae4fce1d",
   "metadata": {},
   "outputs": [
    {
     "data": {
      "text/html": [
       "<div>\n",
       "<style scoped>\n",
       "    .dataframe tbody tr th:only-of-type {\n",
       "        vertical-align: middle;\n",
       "    }\n",
       "\n",
       "    .dataframe tbody tr th {\n",
       "        vertical-align: top;\n",
       "    }\n",
       "\n",
       "    .dataframe thead th {\n",
       "        text-align: right;\n",
       "    }\n",
       "</style>\n",
       "<table border=\"1\" class=\"dataframe\">\n",
       "  <thead>\n",
       "    <tr style=\"text-align: right;\">\n",
       "      <th></th>\n",
       "      <th>alpha1</th>\n",
       "      <th>alpha2</th>\n",
       "    </tr>\n",
       "  </thead>\n",
       "  <tbody>\n",
       "    <tr>\n",
       "      <th>age</th>\n",
       "      <td>0.000000</td>\n",
       "      <td>0.000000</td>\n",
       "    </tr>\n",
       "    <tr>\n",
       "      <th>sex</th>\n",
       "      <td>-0.000000</td>\n",
       "      <td>0.000000</td>\n",
       "    </tr>\n",
       "    <tr>\n",
       "      <th>bmi</th>\n",
       "      <td>343.589790</td>\n",
       "      <td>42.963888</td>\n",
       "    </tr>\n",
       "    <tr>\n",
       "      <th>bp</th>\n",
       "      <td>46.369923</td>\n",
       "      <td>0.000000</td>\n",
       "    </tr>\n",
       "    <tr>\n",
       "      <th>s1</th>\n",
       "      <td>0.000000</td>\n",
       "      <td>0.000000</td>\n",
       "    </tr>\n",
       "    <tr>\n",
       "      <th>s2</th>\n",
       "      <td>0.000000</td>\n",
       "      <td>0.000000</td>\n",
       "    </tr>\n",
       "    <tr>\n",
       "      <th>s3</th>\n",
       "      <td>-0.000000</td>\n",
       "      <td>-0.000000</td>\n",
       "    </tr>\n",
       "    <tr>\n",
       "      <th>s4</th>\n",
       "      <td>0.000000</td>\n",
       "      <td>0.000000</td>\n",
       "    </tr>\n",
       "    <tr>\n",
       "      <th>s5</th>\n",
       "      <td>245.170617</td>\n",
       "      <td>0.000000</td>\n",
       "    </tr>\n",
       "    <tr>\n",
       "      <th>s6</th>\n",
       "      <td>0.000000</td>\n",
       "      <td>0.000000</td>\n",
       "    </tr>\n",
       "  </tbody>\n",
       "</table>\n",
       "</div>"
      ],
      "text/plain": [
       "         alpha1     alpha2\n",
       "age    0.000000   0.000000\n",
       "sex   -0.000000   0.000000\n",
       "bmi  343.589790  42.963888\n",
       "bp    46.369923   0.000000\n",
       "s1     0.000000   0.000000\n",
       "s2     0.000000   0.000000\n",
       "s3    -0.000000  -0.000000\n",
       "s4     0.000000   0.000000\n",
       "s5   245.170617   0.000000\n",
       "s6     0.000000   0.000000"
      ]
     },
     "execution_count": 49,
     "metadata": {},
     "output_type": "execute_result"
    }
   ],
   "source": [
    "coef['alpha2'] = model.coef_\n",
    "coef"
   ]
  },
  {
   "cell_type": "markdown",
   "id": "7bb83e96-baf2-4583-a63b-f28617030f3e",
   "metadata": {},
   "source": [
    "alpha2가 되면 bmi제외하고 나머지는 0으로 만든다."
   ]
  },
  {
   "cell_type": "code",
   "execution_count": 50,
   "id": "98d971d3-ae65-48c4-913c-dfb414822915",
   "metadata": {},
   "outputs": [
    {
     "data": {
      "text/plain": [
       "2703.4583679188177"
      ]
     },
     "execution_count": 50,
     "metadata": {},
     "output_type": "execute_result"
    }
   ],
   "source": [
    "# 라쏘 회귀 alpha=0.05\n",
    "from sklearn.linear_model import Lasso\n",
    "model = Lasso(alpha=0.05) \n",
    "model.fit(X_train, y_train)\n",
    "pred = model.predict(X_test)\n",
    "mean_squared_error(y_test, pred) # 오차숫자는 작을수록 좋음"
   ]
  },
  {
   "cell_type": "code",
   "execution_count": 52,
   "id": "70ba4186-7262-49a1-a575-dae176151166",
   "metadata": {},
   "outputs": [
    {
     "data": {
      "text/html": [
       "<div>\n",
       "<style scoped>\n",
       "    .dataframe tbody tr th:only-of-type {\n",
       "        vertical-align: middle;\n",
       "    }\n",
       "\n",
       "    .dataframe tbody tr th {\n",
       "        vertical-align: top;\n",
       "    }\n",
       "\n",
       "    .dataframe thead th {\n",
       "        text-align: right;\n",
       "    }\n",
       "</style>\n",
       "<table border=\"1\" class=\"dataframe\">\n",
       "  <thead>\n",
       "    <tr style=\"text-align: right;\">\n",
       "      <th></th>\n",
       "      <th>alpha1</th>\n",
       "      <th>alpha2</th>\n",
       "      <th>alpha0.05</th>\n",
       "    </tr>\n",
       "  </thead>\n",
       "  <tbody>\n",
       "    <tr>\n",
       "      <th>age</th>\n",
       "      <td>0.000000</td>\n",
       "      <td>-0.000000</td>\n",
       "      <td>-0.000000</td>\n",
       "    </tr>\n",
       "    <tr>\n",
       "      <th>sex</th>\n",
       "      <td>-0.000000</td>\n",
       "      <td>-198.948213</td>\n",
       "      <td>-198.948213</td>\n",
       "    </tr>\n",
       "    <tr>\n",
       "      <th>bmi</th>\n",
       "      <td>343.589790</td>\n",
       "      <td>487.198584</td>\n",
       "      <td>487.198584</td>\n",
       "    </tr>\n",
       "    <tr>\n",
       "      <th>bp</th>\n",
       "      <td>46.369923</td>\n",
       "      <td>340.490360</td>\n",
       "      <td>340.490360</td>\n",
       "    </tr>\n",
       "    <tr>\n",
       "      <th>s1</th>\n",
       "      <td>0.000000</td>\n",
       "      <td>-95.576361</td>\n",
       "      <td>-95.576361</td>\n",
       "    </tr>\n",
       "    <tr>\n",
       "      <th>s2</th>\n",
       "      <td>0.000000</td>\n",
       "      <td>-0.000000</td>\n",
       "      <td>-0.000000</td>\n",
       "    </tr>\n",
       "    <tr>\n",
       "      <th>s3</th>\n",
       "      <td>-0.000000</td>\n",
       "      <td>-189.867452</td>\n",
       "      <td>-189.867452</td>\n",
       "    </tr>\n",
       "    <tr>\n",
       "      <th>s4</th>\n",
       "      <td>0.000000</td>\n",
       "      <td>10.487703</td>\n",
       "      <td>10.487703</td>\n",
       "    </tr>\n",
       "    <tr>\n",
       "      <th>s5</th>\n",
       "      <td>245.170617</td>\n",
       "      <td>457.332197</td>\n",
       "      <td>457.332197</td>\n",
       "    </tr>\n",
       "    <tr>\n",
       "      <th>s6</th>\n",
       "      <td>0.000000</td>\n",
       "      <td>39.292925</td>\n",
       "      <td>39.292925</td>\n",
       "    </tr>\n",
       "  </tbody>\n",
       "</table>\n",
       "</div>"
      ],
      "text/plain": [
       "         alpha1      alpha2   alpha0.05\n",
       "age    0.000000   -0.000000   -0.000000\n",
       "sex   -0.000000 -198.948213 -198.948213\n",
       "bmi  343.589790  487.198584  487.198584\n",
       "bp    46.369923  340.490360  340.490360\n",
       "s1     0.000000  -95.576361  -95.576361\n",
       "s2     0.000000   -0.000000   -0.000000\n",
       "s3    -0.000000 -189.867452 -189.867452\n",
       "s4     0.000000   10.487703   10.487703\n",
       "s5   245.170617  457.332197  457.332197\n",
       "s6     0.000000   39.292925   39.292925"
      ]
     },
     "execution_count": 52,
     "metadata": {},
     "output_type": "execute_result"
    }
   ],
   "source": [
    "coef['alpha0.05'] = model.coef_\n",
    "coef"
   ]
  },
  {
   "cell_type": "markdown",
   "id": "b19a2441-d8fc-4eaf-a0b2-8a0742a986ef",
   "metadata": {},
   "source": [
    "릿지는 L2 규제, 라쏘는 L1 규제를 통해서 회귀 모델을 만들게 된다."
   ]
  },
  {
   "cell_type": "markdown",
   "id": "d38da836-32d4-443a-bbd3-18ee69397fa0",
   "metadata": {},
   "source": [
    "## 엘라스틱넷 회귀"
   ]
  },
  {
   "cell_type": "code",
   "execution_count": 54,
   "id": "57c58a20-ec2f-4bcc-a598-7ebd74d51cd1",
   "metadata": {},
   "outputs": [
    {
     "data": {
      "text/plain": [
       "6539.270961171604"
      ]
     },
     "execution_count": 54,
     "metadata": {},
     "output_type": "execute_result"
    }
   ],
   "source": [
    "# 엘라스틱넷 회귀\n",
    "from sklearn.linear_model import ElasticNet\n",
    "model = ElasticNet() \n",
    "model.fit(X_train, y_train)\n",
    "pred = model.predict(X_test)\n",
    "mean_squared_error(y_test, pred) # 오차숫자는 작을수록 좋음"
   ]
  },
  {
   "cell_type": "code",
   "execution_count": 59,
   "id": "f8a4c28e-db51-44e2-acf4-c8442bff2b51",
   "metadata": {},
   "outputs": [
    {
     "data": {
      "text/plain": [
       "2675.6031657225317"
      ]
     },
     "execution_count": 59,
     "metadata": {},
     "output_type": "execute_result"
    }
   ],
   "source": [
    "# 엘라스틱넷 회귀\n",
    "from sklearn.linear_model import ElasticNet\n",
    "model = ElasticNet(alpha=0.0001, l1_ratio=0.6) # default l1_ratio 0.5 \n",
    "model.fit(X_train, y_train)\n",
    "pred = model.predict(X_test)\n",
    "mean_squared_error(y_test, pred) # 오차숫자는 작을수록 좋음"
   ]
  },
  {
   "cell_type": "markdown",
   "id": "589d6120-2003-43c4-8ece-5bfa49fe2298",
   "metadata": {},
   "source": [
    "가장 작은 오차 값을 낸 모델이라고 볼 수 있다."
   ]
  },
  {
   "cell_type": "code",
   "execution_count": null,
   "id": "58c1fac8-cd21-44e8-a344-518f530230a1",
   "metadata": {},
   "outputs": [],
   "source": []
  }
 ],
 "metadata": {
  "kernelspec": {
   "display_name": "Python 3 (ipykernel)",
   "language": "python",
   "name": "python3"
  },
  "language_info": {
   "codemirror_mode": {
    "name": "ipython",
    "version": 3
   },
   "file_extension": ".py",
   "mimetype": "text/x-python",
   "name": "python",
   "nbconvert_exporter": "python",
   "pygments_lexer": "ipython3",
   "version": "3.12.7"
  }
 },
 "nbformat": 4,
 "nbformat_minor": 5
}
