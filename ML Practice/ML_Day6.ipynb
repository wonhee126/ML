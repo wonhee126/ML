{
 "cells": [
  {
   "cell_type": "markdown",
   "id": "2a2f2898-2684-4bc4-9315-44f7a5c3f682",
   "metadata": {},
   "source": [
    "## 지도학습(회귀)"
   ]
  },
  {
   "cell_type": "code",
   "execution_count": 1,
   "id": "06a14cf6-fbc2-4a76-b443-b7f74e742dba",
   "metadata": {},
   "outputs": [],
   "source": [
    "import pandas as pd\n",
    "from sklearn.model_selection import train_test_split\n",
    "from sklearn.metrics import mean_squared_error"
   ]
  },
  {
   "cell_type": "markdown",
   "id": "a4bef928-827c-44fc-8603-f7df861104fa",
   "metadata": {},
   "source": [
    "## 데이터 불러오기"
   ]
  },
  {
   "cell_type": "code",
   "execution_count": 2,
   "id": "f1a246be-ed3f-4eaa-8c02-f76e7a99f24a",
   "metadata": {},
   "outputs": [
    {
     "data": {
      "text/plain": [
       "((353, 10), (89, 10), (353,), (89,))"
      ]
     },
     "execution_count": 2,
     "metadata": {},
     "output_type": "execute_result"
    }
   ],
   "source": [
    "from sklearn.datasets import load_diabetes # 당뇨병 환자 데이터 \n",
    "\n",
    "def make_dataset():\n",
    "    dataset = load_diabetes()\n",
    "    df = pd.DataFrame(dataset.data, columns=dataset.feature_names)\n",
    "    df['target'] = dataset.target\n",
    "    X_train, X_test, y_train, y_test = train_test_split(\n",
    "        df.drop('target', axis=1), df['target'], test_size=0.2, random_state=0)\n",
    "    return X_train, X_test, y_train, y_test\n",
    "\n",
    "X_train, X_test, y_train, y_test = make_dataset()\n",
    "X_train.shape, X_test.shape, y_train.shape, y_test.shape"
   ]
  },
  {
   "cell_type": "code",
   "execution_count": null,
   "id": "35b55fbf-2e70-4fdc-9825-0e094c04e8cb",
   "metadata": {},
   "outputs": [],
   "source": []
  }
 ],
 "metadata": {
  "kernelspec": {
   "display_name": "Python 3 (ipykernel)",
   "language": "python",
   "name": "python3"
  },
  "language_info": {
   "codemirror_mode": {
    "name": "ipython",
    "version": 3
   },
   "file_extension": ".py",
   "mimetype": "text/x-python",
   "name": "python",
   "nbconvert_exporter": "python",
   "pygments_lexer": "ipython3",
   "version": "3.12.7"
  }
 },
 "nbformat": 4,
 "nbformat_minor": 5
}
